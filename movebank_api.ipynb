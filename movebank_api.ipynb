{
 "cells": [
  {
   "cell_type": "markdown",
   "metadata": {},
   "source": [
    "# Movebank API ingestion\n",
    "\n",
    "Small example on Movebank data querying and transformation."
   ]
  },
  {
   "cell_type": "code",
   "execution_count": null,
   "metadata": {},
   "outputs": [],
   "source": [
    "import requests # HTTP library\n",
    "import base64\n",
    "import json\n",
    "import fiona\n",
    "import time, datetime\n",
    "\n",
    "# Some useful global variables:\n",
    "movebank_api_root = \"https://www.movebank.org/movebank/service/public/json\"\n",
    "credentials = input().encode('ascii')\n",
    "\n",
    "movebank_api_headers = {\n",
    "    \"Content-Type\": \"application/json\",\n",
    "    \"User-Agent\": \"Python3.6 requests\",\n",
    "    \"Authorization\": f\"Basic: {base64.b64encode(credentials)}\"\n",
    "}\n",
    "\n",
    "# 👇 Remove the output below! DON'T COMMIT!"
   ]
  },
  {
   "cell_type": "code",
   "execution_count": null,
   "metadata": {},
   "outputs": [],
   "source": [
    "# Get tracking data for a list of individuals in a single study\n",
    "def get_raw_tracking_data(study_id, individual_ids, headers = movebank_api_headers):\n",
    "    # Convert to list if only a single individual is selected:\n",
    "    if type(individual_ids) is not list: individual_ids = [individual_ids]\n",
    "    individual_params = \"&\".join([f\"individual_local_identifiers[]={iid}\" for iid in individual_ids])\n",
    "    final_url = f\"{movebank_api_root}?study_id={study_id}&{individual_params}&sensor_type=gps\"\n",
    "    req = requests.get(final_url, headers = headers)\n",
    "    res = json.loads(req.text)\n",
    "    return res['individuals']\n",
    "\n",
    "raw_tracking_data = get_raw_tracking_data(\"2911040\", [\"4262-84830876\", \"1163-1163\"])\n",
    "# (raw_tracking_data[0]) # We'll have a list of stuff like this, one per individual\n",
    "# raw_tracking_data"
   ]
  },
  {
   "cell_type": "code",
   "execution_count": null,
   "metadata": {},
   "outputs": [],
   "source": [
    "def gps_to_utc(gps_time, decimals):\n",
    "    gps_time = str(gps_time)\n",
    "    len_time= len(gps_time)\n",
    "    split_gps_time = (\n",
    "        \"\".join(list(gps_time)[:(len_time - decimals)]),\n",
    "        \"\".join(list(gps_time)[(len_time - decimals):])\n",
    "    )\n",
    "    joined = float(\".\".join(split_gps_time))\n",
    "    return time.strftime(\"%b %d %Y %H:%M:%S\", time.gmtime(joined))\n",
    "\n",
    "def transform_raw_tracking_data(raw_tracking_data):\n",
    "    positions = raw_tracking_data['locations']\n",
    "    result = [{\n",
    "        \"type\": \"Feature\",\n",
    "        \"geometry\": {\n",
    "            \"type\": \"Point\",\n",
    "            \"coordinates\": [\n",
    "                position['location_long'], # Standard GeoJSON order\n",
    "                position['location_lat'],  # Z coord can be added\n",
    "            ]\n",
    "        },\n",
    "        \"properties\": {\"timestamp\": gps_to_utc(position['timestamp'], 3)}\n",
    "    } for position in positions]\n",
    "    return result\n",
    "\n",
    "with open(\"output.json\", \"w\") as geojson:\n",
    "    json.dump(\n",
    "        {\n",
    "            \"type\": \"FeatureCollection\",\n",
    "            \"features\": transform_raw_tracking_data(raw_tracking_data[0])\n",
    "        },\n",
    "        geojson\n",
    "    )\n",
    "\n",
    "# {\"type\": \"FeatureCollection\", \"features\": transform_raw_tracking_data(raw_tracking_data[0])}\n",
    "    "
   ]
  }
 ],
 "metadata": {
  "kernelspec": {
   "display_name": "Python 3",
   "language": "python",
   "name": "python3"
  },
  "language_info": {
   "codemirror_mode": {
    "name": "ipython",
    "version": 3
   },
   "file_extension": ".py",
   "mimetype": "text/x-python",
   "name": "python",
   "nbconvert_exporter": "python",
   "pygments_lexer": "ipython3",
   "version": "3.6.5"
  }
 },
 "nbformat": 4,
 "nbformat_minor": 2
}
